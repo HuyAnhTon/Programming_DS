{
 "cells": [
  {
   "cell_type": "markdown",
   "metadata": {},
   "source": [
    "# I. Thông tin Dataset\n",
    "\n",
    "## Nguồn gốc\n",
    "Dataset được cung cấp bởi **DataCamp**. Dataset được tạo ra thông qua API của `coinmarketcap.com` (vào ngày 06/12/2017).\n",
    "\n",
    "## Nội dung\n",
    "Dataset bao gồm các dữ liệu liên qua đến thị trường Cryptocurrencies\n",
    "___"
   ]
  },
  {
   "cell_type": "markdown",
   "metadata": {},
   "source": [
    "# II. Khám phá dữ liệu"
   ]
  },
  {
   "cell_type": "markdown",
   "metadata": {},
   "source": [
    "## Import thư viện cần thiết\n",
    "\n",
    "Trước hết, import các thư viện cần thiết cho việc khám phá, xử lý và phân tích trở nên dễ dàng hơn."
   ]
  },
  {
   "cell_type": "code",
   "execution_count": 17,
   "metadata": {},
   "outputs": [],
   "source": [
    "import pandas as pd\n",
    "import numpy as np\n",
    "import matplotlib.pyplot as plt"
   ]
  },
  {
   "cell_type": "markdown",
   "metadata": {},
   "source": [
    "## Đọc dataset từ file csv\n",
    "Đọc dữ liệu từ file `coinmarketcap_06122017.csv` được cung cấp"
   ]
  },
  {
   "cell_type": "code",
   "execution_count": 18,
   "metadata": {},
   "outputs": [],
   "source": [
    "raw_df = pd.read_csv(\"../data/raw/coinmarketcap_06122017.csv\")"
   ]
  },
  {
   "cell_type": "markdown",
   "metadata": {},
   "source": [
    "Thêm option để các giá trị float dễ đọc hơn\n"
   ]
  },
  {
   "cell_type": "code",
   "execution_count": 19,
   "metadata": {},
   "outputs": [],
   "source": [
    "pd.set_option('display.float_format', lambda x: '%8.1f' % x)"
   ]
  },
  {
   "cell_type": "markdown",
   "metadata": {},
   "source": [
    "In ra 5 dòng đầu tiên của dataset để có thể nắm bắt được khái quát các cột và nội dung của mỗi observation\n"
   ]
  },
  {
   "cell_type": "code",
   "execution_count": 20,
   "metadata": {},
   "outputs": [
    {
     "data": {
      "text/html": [
       "<div>\n",
       "<style scoped>\n",
       "    .dataframe tbody tr th:only-of-type {\n",
       "        vertical-align: middle;\n",
       "    }\n",
       "\n",
       "    .dataframe tbody tr th {\n",
       "        vertical-align: top;\n",
       "    }\n",
       "\n",
       "    .dataframe thead th {\n",
       "        text-align: right;\n",
       "    }\n",
       "</style>\n",
       "<table border=\"1\" class=\"dataframe\">\n",
       "  <thead>\n",
       "    <tr style=\"text-align: right;\">\n",
       "      <th></th>\n",
       "      <th>Unnamed: 0</th>\n",
       "      <th>24h_volume_usd</th>\n",
       "      <th>available_supply</th>\n",
       "      <th>id</th>\n",
       "      <th>last_updated</th>\n",
       "      <th>market_cap_usd</th>\n",
       "      <th>max_supply</th>\n",
       "      <th>name</th>\n",
       "      <th>percent_change_1h</th>\n",
       "      <th>percent_change_24h</th>\n",
       "      <th>percent_change_7d</th>\n",
       "      <th>price_btc</th>\n",
       "      <th>price_usd</th>\n",
       "      <th>rank</th>\n",
       "      <th>symbol</th>\n",
       "      <th>total_supply</th>\n",
       "    </tr>\n",
       "  </thead>\n",
       "  <tbody>\n",
       "    <tr>\n",
       "      <th>0</th>\n",
       "      <td>0</td>\n",
       "      <td>9007640000.0</td>\n",
       "      <td>16723525.0</td>\n",
       "      <td>bitcoin</td>\n",
       "      <td>1512549554</td>\n",
       "      <td>213049346738.0</td>\n",
       "      <td>21000000.0</td>\n",
       "      <td>Bitcoin</td>\n",
       "      <td>0.1</td>\n",
       "      <td>7.3</td>\n",
       "      <td>17.4</td>\n",
       "      <td>1.0</td>\n",
       "      <td>12739.5</td>\n",
       "      <td>1</td>\n",
       "      <td>BTC</td>\n",
       "      <td>16723525.0</td>\n",
       "    </tr>\n",
       "    <tr>\n",
       "      <th>1</th>\n",
       "      <td>1</td>\n",
       "      <td>1551330000.0</td>\n",
       "      <td>96165368.0</td>\n",
       "      <td>ethereum</td>\n",
       "      <td>1512549553</td>\n",
       "      <td>43529446198.0</td>\n",
       "      <td>NaN</td>\n",
       "      <td>Ethereum</td>\n",
       "      <td>-0.2</td>\n",
       "      <td>-3.9</td>\n",
       "      <td>-7.3</td>\n",
       "      <td>0.0</td>\n",
       "      <td>452.7</td>\n",
       "      <td>2</td>\n",
       "      <td>ETH</td>\n",
       "      <td>96165368.0</td>\n",
       "    </tr>\n",
       "    <tr>\n",
       "      <th>2</th>\n",
       "      <td>2</td>\n",
       "      <td>1111350000.0</td>\n",
       "      <td>16840438.0</td>\n",
       "      <td>bitcoin-cash</td>\n",
       "      <td>1512549578</td>\n",
       "      <td>25295852764.0</td>\n",
       "      <td>21000000.0</td>\n",
       "      <td>Bitcoin Cash</td>\n",
       "      <td>1.6</td>\n",
       "      <td>-5.5</td>\n",
       "      <td>-4.8</td>\n",
       "      <td>0.1</td>\n",
       "      <td>1502.1</td>\n",
       "      <td>3</td>\n",
       "      <td>BCH</td>\n",
       "      <td>16840438.0</td>\n",
       "    </tr>\n",
       "    <tr>\n",
       "      <th>3</th>\n",
       "      <td>3</td>\n",
       "      <td>2936090000.0</td>\n",
       "      <td>2779530283.0</td>\n",
       "      <td>iota</td>\n",
       "      <td>1512549571</td>\n",
       "      <td>14752245796.0</td>\n",
       "      <td>2779530283.0</td>\n",
       "      <td>IOTA</td>\n",
       "      <td>-2.4</td>\n",
       "      <td>83.3</td>\n",
       "      <td>255.8</td>\n",
       "      <td>0.0</td>\n",
       "      <td>5.3</td>\n",
       "      <td>4</td>\n",
       "      <td>MIOTA</td>\n",
       "      <td>2779530283.0</td>\n",
       "    </tr>\n",
       "    <tr>\n",
       "      <th>4</th>\n",
       "      <td>4</td>\n",
       "      <td>231505000.0</td>\n",
       "      <td>38739145009.0</td>\n",
       "      <td>ripple</td>\n",
       "      <td>1512549541</td>\n",
       "      <td>9365343263.0</td>\n",
       "      <td>100000000000.0</td>\n",
       "      <td>Ripple</td>\n",
       "      <td>0.6</td>\n",
       "      <td>-3.7</td>\n",
       "      <td>-14.8</td>\n",
       "      <td>0.0</td>\n",
       "      <td>0.2</td>\n",
       "      <td>5</td>\n",
       "      <td>XRP</td>\n",
       "      <td>99993093880.0</td>\n",
       "    </tr>\n",
       "  </tbody>\n",
       "</table>\n",
       "</div>"
      ],
      "text/plain": [
       "   Unnamed: 0  24h_volume_usd  available_supply            id  last_updated  \\\n",
       "0           0    9007640000.0        16723525.0       bitcoin    1512549554   \n",
       "1           1    1551330000.0        96165368.0      ethereum    1512549553   \n",
       "2           2    1111350000.0        16840438.0  bitcoin-cash    1512549578   \n",
       "3           3    2936090000.0      2779530283.0          iota    1512549571   \n",
       "4           4     231505000.0     38739145009.0        ripple    1512549541   \n",
       "\n",
       "   market_cap_usd     max_supply          name  percent_change_1h  \\\n",
       "0  213049346738.0     21000000.0       Bitcoin                0.1   \n",
       "1   43529446198.0            NaN      Ethereum               -0.2   \n",
       "2   25295852764.0     21000000.0  Bitcoin Cash                1.6   \n",
       "3   14752245796.0   2779530283.0          IOTA               -2.4   \n",
       "4    9365343263.0 100000000000.0        Ripple                0.6   \n",
       "\n",
       "   percent_change_24h  percent_change_7d  price_btc  price_usd  rank symbol  \\\n",
       "0                 7.3               17.4        1.0    12739.5     1    BTC   \n",
       "1                -3.9               -7.3        0.0      452.7     2    ETH   \n",
       "2                -5.5               -4.8        0.1     1502.1     3    BCH   \n",
       "3                83.3              255.8        0.0        5.3     4  MIOTA   \n",
       "4                -3.7              -14.8        0.0        0.2     5    XRP   \n",
       "\n",
       "   total_supply  \n",
       "0    16723525.0  \n",
       "1    96165368.0  \n",
       "2    16840438.0  \n",
       "3  2779530283.0  \n",
       "4 99993093880.0  "
      ]
     },
     "execution_count": 20,
     "metadata": {},
     "output_type": "execute_result"
    }
   ],
   "source": [
    "raw_df.head()"
   ]
  },
  {
   "cell_type": "markdown",
   "metadata": {},
   "source": [
    "Do file csv chứa cả cột Index nên cần bỏ đi để thuận tiện cho việc quan sát\n"
   ]
  },
  {
   "cell_type": "code",
   "execution_count": 21,
   "metadata": {},
   "outputs": [
    {
     "data": {
      "text/html": [
       "<div>\n",
       "<style scoped>\n",
       "    .dataframe tbody tr th:only-of-type {\n",
       "        vertical-align: middle;\n",
       "    }\n",
       "\n",
       "    .dataframe tbody tr th {\n",
       "        vertical-align: top;\n",
       "    }\n",
       "\n",
       "    .dataframe thead th {\n",
       "        text-align: right;\n",
       "    }\n",
       "</style>\n",
       "<table border=\"1\" class=\"dataframe\">\n",
       "  <thead>\n",
       "    <tr style=\"text-align: right;\">\n",
       "      <th></th>\n",
       "      <th>24h_volume_usd</th>\n",
       "      <th>available_supply</th>\n",
       "      <th>id</th>\n",
       "      <th>last_updated</th>\n",
       "      <th>market_cap_usd</th>\n",
       "      <th>max_supply</th>\n",
       "      <th>name</th>\n",
       "      <th>percent_change_1h</th>\n",
       "      <th>percent_change_24h</th>\n",
       "      <th>percent_change_7d</th>\n",
       "      <th>price_btc</th>\n",
       "      <th>price_usd</th>\n",
       "      <th>rank</th>\n",
       "      <th>symbol</th>\n",
       "      <th>total_supply</th>\n",
       "    </tr>\n",
       "  </thead>\n",
       "  <tbody>\n",
       "    <tr>\n",
       "      <th>0</th>\n",
       "      <td>9007640000.0</td>\n",
       "      <td>16723525.0</td>\n",
       "      <td>bitcoin</td>\n",
       "      <td>1512549554</td>\n",
       "      <td>213049346738.0</td>\n",
       "      <td>21000000.0</td>\n",
       "      <td>Bitcoin</td>\n",
       "      <td>0.1</td>\n",
       "      <td>7.3</td>\n",
       "      <td>17.4</td>\n",
       "      <td>1.0</td>\n",
       "      <td>12739.5</td>\n",
       "      <td>1</td>\n",
       "      <td>BTC</td>\n",
       "      <td>16723525.0</td>\n",
       "    </tr>\n",
       "    <tr>\n",
       "      <th>1</th>\n",
       "      <td>1551330000.0</td>\n",
       "      <td>96165368.0</td>\n",
       "      <td>ethereum</td>\n",
       "      <td>1512549553</td>\n",
       "      <td>43529446198.0</td>\n",
       "      <td>NaN</td>\n",
       "      <td>Ethereum</td>\n",
       "      <td>-0.2</td>\n",
       "      <td>-3.9</td>\n",
       "      <td>-7.3</td>\n",
       "      <td>0.0</td>\n",
       "      <td>452.7</td>\n",
       "      <td>2</td>\n",
       "      <td>ETH</td>\n",
       "      <td>96165368.0</td>\n",
       "    </tr>\n",
       "    <tr>\n",
       "      <th>2</th>\n",
       "      <td>1111350000.0</td>\n",
       "      <td>16840438.0</td>\n",
       "      <td>bitcoin-cash</td>\n",
       "      <td>1512549578</td>\n",
       "      <td>25295852764.0</td>\n",
       "      <td>21000000.0</td>\n",
       "      <td>Bitcoin Cash</td>\n",
       "      <td>1.6</td>\n",
       "      <td>-5.5</td>\n",
       "      <td>-4.8</td>\n",
       "      <td>0.1</td>\n",
       "      <td>1502.1</td>\n",
       "      <td>3</td>\n",
       "      <td>BCH</td>\n",
       "      <td>16840438.0</td>\n",
       "    </tr>\n",
       "    <tr>\n",
       "      <th>3</th>\n",
       "      <td>2936090000.0</td>\n",
       "      <td>2779530283.0</td>\n",
       "      <td>iota</td>\n",
       "      <td>1512549571</td>\n",
       "      <td>14752245796.0</td>\n",
       "      <td>2779530283.0</td>\n",
       "      <td>IOTA</td>\n",
       "      <td>-2.4</td>\n",
       "      <td>83.3</td>\n",
       "      <td>255.8</td>\n",
       "      <td>0.0</td>\n",
       "      <td>5.3</td>\n",
       "      <td>4</td>\n",
       "      <td>MIOTA</td>\n",
       "      <td>2779530283.0</td>\n",
       "    </tr>\n",
       "    <tr>\n",
       "      <th>4</th>\n",
       "      <td>231505000.0</td>\n",
       "      <td>38739145009.0</td>\n",
       "      <td>ripple</td>\n",
       "      <td>1512549541</td>\n",
       "      <td>9365343263.0</td>\n",
       "      <td>100000000000.0</td>\n",
       "      <td>Ripple</td>\n",
       "      <td>0.6</td>\n",
       "      <td>-3.7</td>\n",
       "      <td>-14.8</td>\n",
       "      <td>0.0</td>\n",
       "      <td>0.2</td>\n",
       "      <td>5</td>\n",
       "      <td>XRP</td>\n",
       "      <td>99993093880.0</td>\n",
       "    </tr>\n",
       "  </tbody>\n",
       "</table>\n",
       "</div>"
      ],
      "text/plain": [
       "   24h_volume_usd  available_supply            id  last_updated  \\\n",
       "0    9007640000.0        16723525.0       bitcoin    1512549554   \n",
       "1    1551330000.0        96165368.0      ethereum    1512549553   \n",
       "2    1111350000.0        16840438.0  bitcoin-cash    1512549578   \n",
       "3    2936090000.0      2779530283.0          iota    1512549571   \n",
       "4     231505000.0     38739145009.0        ripple    1512549541   \n",
       "\n",
       "   market_cap_usd     max_supply          name  percent_change_1h  \\\n",
       "0  213049346738.0     21000000.0       Bitcoin                0.1   \n",
       "1   43529446198.0            NaN      Ethereum               -0.2   \n",
       "2   25295852764.0     21000000.0  Bitcoin Cash                1.6   \n",
       "3   14752245796.0   2779530283.0          IOTA               -2.4   \n",
       "4    9365343263.0 100000000000.0        Ripple                0.6   \n",
       "\n",
       "   percent_change_24h  percent_change_7d  price_btc  price_usd  rank symbol  \\\n",
       "0                 7.3               17.4        1.0    12739.5     1    BTC   \n",
       "1                -3.9               -7.3        0.0      452.7     2    ETH   \n",
       "2                -5.5               -4.8        0.1     1502.1     3    BCH   \n",
       "3                83.3              255.8        0.0        5.3     4  MIOTA   \n",
       "4                -3.7              -14.8        0.0        0.2     5    XRP   \n",
       "\n",
       "   total_supply  \n",
       "0    16723525.0  \n",
       "1    96165368.0  \n",
       "2    16840438.0  \n",
       "3  2779530283.0  \n",
       "4 99993093880.0  "
      ]
     },
     "execution_count": 21,
     "metadata": {},
     "output_type": "execute_result"
    }
   ],
   "source": [
    "raw_df = raw_df.drop(raw_df.columns[0], axis=1)\n",
    "\n",
    "raw_df.head()\n"
   ]
  },
  {
   "cell_type": "markdown",
   "metadata": {},
   "source": [
    "## Số dòng và cột"
   ]
  },
  {
   "cell_type": "code",
   "execution_count": 40,
   "metadata": {},
   "outputs": [
    {
     "data": {
      "text/plain": [
       "(1326, 15)"
      ]
     },
     "execution_count": 40,
     "metadata": {},
     "output_type": "execute_result"
    }
   ],
   "source": [
    "raw_df.shape"
   ]
  },
  {
   "cell_type": "markdown",
   "metadata": {},
   "source": [
    "Dễ dàng thấy rằng dataset bao gồm 1326 dòng và 15 cột"
   ]
  },
  {
   "cell_type": "markdown",
   "metadata": {},
   "source": [
    "## Ý nghĩa của các dòng\n",
    "\n",
    "Mỗi dòng tương ứng với một quan sát của một loại coin tại thời điểm cụ thể nào đó. Mỗi dòng cung cấp các thông tin như giá cả, khối lượng giao dịch, bậc...\n",
    "\n",
    "\n",
    "## Ý nghĩa của các cột\n",
    "\n",
    "Để hiểu rõ hơn về nội dung của dataset, ta cần phải giải thích ý nghĩa của từng cột trong dataset. \n",
    "\n",
    "- `24h_volume_usd`: khối lượng giao dịch trong 24h\n",
    "\n",
    "- `available_supply`: số lượng coins đã được phát hành và đang tồn tại trong thị trường ngay bây giờ\n",
    "\n",
    "- `id`: id để phân biệt các coins với nhau\n",
    "\n",
    "- `last_updated`: thời gian được cập nhật\n",
    "\n",
    "- `market_cap_usd`: giá trị vốn hoá tính theo USD\n",
    "\n",
    "- `max_supply`: ước tính về số lượng coins tối đa có thể tạo ra trong vòng đời của nó.\n",
    "\n",
    "- `name`: tên của coin.\n",
    "\n",
    "- `percent_change_1h`: mức độ thay đổi về giá của coin trong vòng 1h (%)\n",
    "\n",
    "- `percent_change_24h`: mức độ thay đổi về giá của coin trong vòng 24h (%)\n",
    "\n",
    "- `percent_change_7d`: mức độ thay đổi về giá của coin trong vòng 7d (%)\n",
    "\n",
    "- `price_btc`: giá của coin tính bằng Bitcoin\n",
    "\n",
    "- `price_usd`: giá của coin tính bằng USD\n",
    "\n",
    "- `rank`: bậc của coin theo tiêu chí của coinmarketcap\n",
    "\n",
    "- `symbol`: là ký hiệu của coin\n",
    "\n",
    "- `total_supply`: ước tính số lượng coins tối đa (bao gồm phần đang lưu thông và chưa được phát hành) ngay bây giờ.\n",
    "\n",
    "**Lưu ý**\n",
    "Có 2 cột khá dễ nhầm lẫn là `total_supply` và `available_supply`.\n",
    "\n",
    "`total_supply`:\n",
    "- Bao gồm số lượng coin đang trong lưu thông và phần chưa được phát hành\n",
    "- Thể hiện số lượng coin tối đa có thể cung cấp\n",
    "\n",
    "`available_supply`:\n",
    "- Bao gồm số lượng coin đang trong lưu thông (đã được phát hành)\n",
    "- Là một phép đo tốt hơn để tính giá trị vốn hoá (capitalization) cho coin đó.\n",
    "\n",
    "\n",
    "\n"
   ]
  },
  {
   "cell_type": "markdown",
   "metadata": {},
   "source": [
    "## Kiểm tra sự trùng lắp của các dòng\n"
   ]
  },
  {
   "cell_type": "markdown",
   "metadata": {},
   "source": [
    "Để kiểm tra giữa các dòng có sự trùng lắp hay không ta thực hiện như sau:"
   ]
  },
  {
   "cell_type": "code",
   "execution_count": 24,
   "metadata": {},
   "outputs": [
    {
     "data": {
      "text/plain": [
       "0"
      ]
     },
     "execution_count": 24,
     "metadata": {},
     "output_type": "execute_result"
    }
   ],
   "source": [
    "raw_df.duplicated().sum()"
   ]
  },
  {
   "cell_type": "markdown",
   "metadata": {},
   "source": [
    "Output là 0 cho thấy không có sự trùng lắp giữa các dòng."
   ]
  },
  {
   "cell_type": "markdown",
   "metadata": {},
   "source": [
    "## Liệu kiểu dữ liệu của các cột đã hợp lý hay chưa?"
   ]
  },
  {
   "cell_type": "markdown",
   "metadata": {},
   "source": [
    "Trước hết, quan sát kiểu dữ liệu khi đọc lên từ file csv"
   ]
  },
  {
   "cell_type": "code",
   "execution_count": 41,
   "metadata": {},
   "outputs": [
    {
     "data": {
      "text/plain": [
       "24h_volume_usd        float64\n",
       "available_supply      float64\n",
       "id                     object\n",
       "last_updated            int64\n",
       "market_cap_usd        float64\n",
       "max_supply            float64\n",
       "name                   object\n",
       "percent_change_1h     float64\n",
       "percent_change_24h    float64\n",
       "percent_change_7d     float64\n",
       "price_btc             float64\n",
       "price_usd             float64\n",
       "rank                    int64\n",
       "symbol                 object\n",
       "total_supply          float64\n",
       "dtype: object"
      ]
     },
     "execution_count": 41,
     "metadata": {},
     "output_type": "execute_result"
    }
   ],
   "source": [
    "raw_df.dtypes"
   ]
  },
  {
   "cell_type": "markdown",
   "metadata": {},
   "source": []
  },
  {
   "cell_type": "markdown",
   "metadata": {},
   "source": []
  },
  {
   "cell_type": "code",
   "execution_count": null,
   "metadata": {},
   "outputs": [],
   "source": []
  }
 ],
 "metadata": {
  "kernelspec": {
   "display_name": "min_ds-env",
   "language": "python",
   "name": "python3"
  },
  "language_info": {
   "codemirror_mode": {
    "name": "ipython",
    "version": 3
   },
   "file_extension": ".py",
   "mimetype": "text/x-python",
   "name": "python",
   "nbconvert_exporter": "python",
   "pygments_lexer": "ipython3",
   "version": "3.10.8"
  }
 },
 "nbformat": 4,
 "nbformat_minor": 2
}
