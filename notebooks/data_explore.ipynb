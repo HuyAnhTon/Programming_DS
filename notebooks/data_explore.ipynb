{
 "cells": [
  {
   "cell_type": "markdown",
   "metadata": {},
   "source": [
    "# I. Thông tin Dataset\n",
    "\n",
    "## Nguồn gốc\n",
    "Dataset được cung cấp lấy từ Kaggle (https://www.kaggle.com/datasets/iamsouravbanerjee/customer-shopping-trends-dataset)\n",
    "\n",
    "## Nội dung\n",
    "Dataset bao gồm các dữ liệu được ghi nhận lại thông qua hoạt động mua sắm của khách hàng.\n",
    "\n",
    "Dataset bao gồm nhiều features có liên quan tới hành vi mua sắm mua khách hàng, bao gồm các thông tin cần thiết để các doanh nghiệp có thể nâng cao sự thấu hiểu đối với khách hàng của mình (giới tính, tuổi, phương thức thanh toán ...).\n",
    "\n",
    "\n",
    "___"
   ]
  },
  {
   "cell_type": "markdown",
   "metadata": {},
   "source": [
    "# II. Khám phá dữ liệu"
   ]
  },
  {
   "cell_type": "markdown",
   "metadata": {},
   "source": [
    "## Import thư viện cần thiết\n",
    "\n",
    "Trước hết, import các thư viện cần thiết cho việc khám phá, xử lý và phân tích trở nên dễ dàng hơn."
   ]
  },
  {
   "cell_type": "code",
   "execution_count": 90,
   "metadata": {},
   "outputs": [],
   "source": [
    "import pandas as pd\n",
    "import numpy as np\n",
    "import matplotlib.pyplot as plt"
   ]
  },
  {
   "cell_type": "markdown",
   "metadata": {},
   "source": [
    "Set option để dễ đọc giá float hơn"
   ]
  },
  {
   "cell_type": "code",
   "execution_count": 91,
   "metadata": {},
   "outputs": [],
   "source": [
    "pd.set_option('display.float_format', '{:.2f}'.format)"
   ]
  },
  {
   "cell_type": "markdown",
   "metadata": {},
   "source": [
    "## Đọc dataset từ file csv\n",
    "Đọc dữ liệu từ file `shopping_trends.csv` được cung cấp"
   ]
  },
  {
   "cell_type": "code",
   "execution_count": 92,
   "metadata": {},
   "outputs": [],
   "source": [
    "raw_df = pd.read_csv(\"../data/raw/shopping_trends.csv\")"
   ]
  },
  {
   "cell_type": "markdown",
   "metadata": {},
   "source": [
    "In ra 5 dòng đầu tiên của dataset để có thể nắm bắt được khái quát các cột và nội dung của mỗi observation\n"
   ]
  },
  {
   "cell_type": "code",
   "execution_count": 93,
   "metadata": {},
   "outputs": [
    {
     "data": {
      "text/html": [
       "<div>\n",
       "<style scoped>\n",
       "    .dataframe tbody tr th:only-of-type {\n",
       "        vertical-align: middle;\n",
       "    }\n",
       "\n",
       "    .dataframe tbody tr th {\n",
       "        vertical-align: top;\n",
       "    }\n",
       "\n",
       "    .dataframe thead th {\n",
       "        text-align: right;\n",
       "    }\n",
       "</style>\n",
       "<table border=\"1\" class=\"dataframe\">\n",
       "  <thead>\n",
       "    <tr style=\"text-align: right;\">\n",
       "      <th></th>\n",
       "      <th>Customer ID</th>\n",
       "      <th>Age</th>\n",
       "      <th>Gender</th>\n",
       "      <th>Item Purchased</th>\n",
       "      <th>Category</th>\n",
       "      <th>Purchase Amount (USD)</th>\n",
       "      <th>Location</th>\n",
       "      <th>Size</th>\n",
       "      <th>Color</th>\n",
       "      <th>Season</th>\n",
       "      <th>Review Rating</th>\n",
       "      <th>Subscription Status</th>\n",
       "      <th>Payment Method</th>\n",
       "      <th>Shipping Type</th>\n",
       "      <th>Discount Applied</th>\n",
       "      <th>Promo Code Used</th>\n",
       "      <th>Previous Purchases</th>\n",
       "      <th>Preferred Payment Method</th>\n",
       "      <th>Frequency of Purchases</th>\n",
       "    </tr>\n",
       "  </thead>\n",
       "  <tbody>\n",
       "    <tr>\n",
       "      <th>0</th>\n",
       "      <td>1</td>\n",
       "      <td>55</td>\n",
       "      <td>Male</td>\n",
       "      <td>Blouse</td>\n",
       "      <td>Clothing</td>\n",
       "      <td>53.00</td>\n",
       "      <td>Kentucky</td>\n",
       "      <td>L</td>\n",
       "      <td>Gray</td>\n",
       "      <td>Winter</td>\n",
       "      <td>3.10</td>\n",
       "      <td>Yes</td>\n",
       "      <td>Credit Card</td>\n",
       "      <td>Express</td>\n",
       "      <td>Yes</td>\n",
       "      <td>Yes</td>\n",
       "      <td>14.00</td>\n",
       "      <td>Venmo</td>\n",
       "      <td>Fortnightly</td>\n",
       "    </tr>\n",
       "    <tr>\n",
       "      <th>1</th>\n",
       "      <td>2</td>\n",
       "      <td>19</td>\n",
       "      <td>Male</td>\n",
       "      <td>Sweater</td>\n",
       "      <td>Clothing</td>\n",
       "      <td>64.00</td>\n",
       "      <td>Maine</td>\n",
       "      <td>L</td>\n",
       "      <td>Maroon</td>\n",
       "      <td>Winter</td>\n",
       "      <td>3.10</td>\n",
       "      <td>Yes</td>\n",
       "      <td>Bank Transfer</td>\n",
       "      <td>Express</td>\n",
       "      <td>Yes</td>\n",
       "      <td>Yes</td>\n",
       "      <td>2.00</td>\n",
       "      <td>Cash</td>\n",
       "      <td>Fortnightly</td>\n",
       "    </tr>\n",
       "    <tr>\n",
       "      <th>2</th>\n",
       "      <td>3</td>\n",
       "      <td>50</td>\n",
       "      <td>Male</td>\n",
       "      <td>Jeans</td>\n",
       "      <td>Clothing</td>\n",
       "      <td>73.00</td>\n",
       "      <td>Massachusetts</td>\n",
       "      <td>S</td>\n",
       "      <td>Maroon</td>\n",
       "      <td>Spring</td>\n",
       "      <td>3.10</td>\n",
       "      <td>Yes</td>\n",
       "      <td>Cash</td>\n",
       "      <td>Free Shipping</td>\n",
       "      <td>Yes</td>\n",
       "      <td>Yes</td>\n",
       "      <td>23.00</td>\n",
       "      <td>Credit Card</td>\n",
       "      <td>Weekly</td>\n",
       "    </tr>\n",
       "    <tr>\n",
       "      <th>3</th>\n",
       "      <td>4</td>\n",
       "      <td>21</td>\n",
       "      <td>Male</td>\n",
       "      <td>Sandals</td>\n",
       "      <td>Footwear</td>\n",
       "      <td>90.00</td>\n",
       "      <td>Rhode Island</td>\n",
       "      <td>M</td>\n",
       "      <td>Maroon</td>\n",
       "      <td>Spring</td>\n",
       "      <td>3.50</td>\n",
       "      <td>Yes</td>\n",
       "      <td>PayPal</td>\n",
       "      <td>Next Day Air</td>\n",
       "      <td>Yes</td>\n",
       "      <td>Yes</td>\n",
       "      <td>49.00</td>\n",
       "      <td>PayPal</td>\n",
       "      <td>Weekly</td>\n",
       "    </tr>\n",
       "    <tr>\n",
       "      <th>4</th>\n",
       "      <td>5</td>\n",
       "      <td>45</td>\n",
       "      <td>Male</td>\n",
       "      <td>Blouse</td>\n",
       "      <td>Clothing</td>\n",
       "      <td>49.00</td>\n",
       "      <td>Oregon</td>\n",
       "      <td>M</td>\n",
       "      <td>Turquoise</td>\n",
       "      <td>Spring</td>\n",
       "      <td>2.70</td>\n",
       "      <td>Yes</td>\n",
       "      <td>Cash</td>\n",
       "      <td>Free Shipping</td>\n",
       "      <td>Yes</td>\n",
       "      <td>Yes</td>\n",
       "      <td>31.00</td>\n",
       "      <td>PayPal</td>\n",
       "      <td>Annually</td>\n",
       "    </tr>\n",
       "  </tbody>\n",
       "</table>\n",
       "</div>"
      ],
      "text/plain": [
       "   Customer ID  Age Gender Item Purchased  Category  Purchase Amount (USD)  \\\n",
       "0            1   55   Male         Blouse  Clothing                  53.00   \n",
       "1            2   19   Male        Sweater  Clothing                  64.00   \n",
       "2            3   50   Male          Jeans  Clothing                  73.00   \n",
       "3            4   21   Male        Sandals  Footwear                  90.00   \n",
       "4            5   45   Male         Blouse  Clothing                  49.00   \n",
       "\n",
       "        Location Size      Color  Season  Review Rating Subscription Status  \\\n",
       "0       Kentucky    L       Gray  Winter           3.10                 Yes   \n",
       "1          Maine    L     Maroon  Winter           3.10                 Yes   \n",
       "2  Massachusetts    S     Maroon  Spring           3.10                 Yes   \n",
       "3   Rhode Island    M     Maroon  Spring           3.50                 Yes   \n",
       "4         Oregon    M  Turquoise  Spring           2.70                 Yes   \n",
       "\n",
       "  Payment Method  Shipping Type Discount Applied Promo Code Used  \\\n",
       "0    Credit Card        Express              Yes             Yes   \n",
       "1  Bank Transfer        Express              Yes             Yes   \n",
       "2           Cash  Free Shipping              Yes             Yes   \n",
       "3         PayPal   Next Day Air              Yes             Yes   \n",
       "4           Cash  Free Shipping              Yes             Yes   \n",
       "\n",
       "   Previous Purchases Preferred Payment Method Frequency of Purchases  \n",
       "0               14.00                    Venmo            Fortnightly  \n",
       "1                2.00                     Cash            Fortnightly  \n",
       "2               23.00              Credit Card                 Weekly  \n",
       "3               49.00                   PayPal                 Weekly  \n",
       "4               31.00                   PayPal               Annually  "
      ]
     },
     "execution_count": 93,
     "metadata": {},
     "output_type": "execute_result"
    }
   ],
   "source": [
    "raw_df.head()"
   ]
  },
  {
   "cell_type": "markdown",
   "metadata": {},
   "source": [
    "## Số dòng và cột"
   ]
  },
  {
   "cell_type": "code",
   "execution_count": 94,
   "metadata": {},
   "outputs": [
    {
     "data": {
      "text/plain": [
       "(3907, 19)"
      ]
     },
     "execution_count": 94,
     "metadata": {},
     "output_type": "execute_result"
    }
   ],
   "source": [
    "raw_df.shape"
   ]
  },
  {
   "cell_type": "markdown",
   "metadata": {},
   "source": [
    "Dễ dàng thấy rằng dataset bao gồm 3900 dòng và 18 cột"
   ]
  },
  {
   "cell_type": "markdown",
   "metadata": {},
   "source": [
    "## Ý nghĩa của các dòng\n",
    "\n",
    "Mỗi dòng tương ứng với một quan sát của một hoạt động mua sắm của khách hàng tại thời điểm cụ thể nào đó. Mỗi dòng cung cấp các thông tin như giới tính, tuổi, loại quần áo, giá thành...\n",
    "\n",
    "\n",
    "## Ý nghĩa của các cột\n",
    "\n",
    "Để hiểu rõ hơn về nội dung của dataset, ta cần phải giải thích ý nghĩa của từng cột trong dataset. \n",
    "\n",
    "- `Customer ID` - giá trị để phân biệt các khách hàng \n",
    "\n",
    "- `Age` - tuổi của khách hàng\n",
    "\n",
    "- `Gender` - giới tính khách hàng\n",
    "\n",
    "- `Item Purchased` - sản phẩm đã mua\n",
    "\n",
    "- `Category` - phân loại của sản phẩm\n",
    "\n",
    "- `Purchase Amount (USD)` - giá tiền đã trả (USD)\n",
    "\n",
    "- `Location` - địa điểm mua hàng\n",
    "\n",
    "- `Size` - kích cỡ sản phẩm\n",
    "\n",
    "- `Color` - màu sắc sản phẩm\n",
    "\n",
    "- `Season` - mùa mua hàng (tính tại thời điểm mua)\n",
    "\n",
    "- `Review Rating` - đánh giá sản phẩm từ khách hàng\n",
    "\n",
    "- `Subscription Status` - chỉ ra khách hàng có là hội viên hay không (Y/N)\n",
    "\n",
    "- `Payment Method` - phương thức thanh toán\n",
    "\n",
    "- `Shipping Type` - phương thức giao hàng (chọn bởi khách hàng)\n",
    "\n",
    "- `Discount Applied` - sản phẩm được giảm giá (Y/N)\n",
    "\n",
    "- `Promo Code Used` - áp dụng mã giảm giá (Y/N)\n",
    "\n",
    "- `Previous Purchases` - số lượng giao dịch đến nay (không tính giao dịch hiện tại)\n",
    "\n",
    "- `Preferred Payment Method`  - phương thức thanh toán được ưu tiên bởi khách hàng\n",
    "\n",
    "- `Frequency of Purchases` - tần suất mua sắm"
   ]
  },
  {
   "cell_type": "markdown",
   "metadata": {},
   "source": [
    "## Kiểm tra sự trùng lắp của các dòng\n"
   ]
  },
  {
   "cell_type": "markdown",
   "metadata": {},
   "source": [
    "Để kiểm tra giữa các dòng có sự trùng lắp hay không ta thực hiện như sau:"
   ]
  },
  {
   "cell_type": "code",
   "execution_count": 95,
   "metadata": {},
   "outputs": [
    {
     "data": {
      "text/plain": [
       "7"
      ]
     },
     "execution_count": 95,
     "metadata": {},
     "output_type": "execute_result"
    }
   ],
   "source": [
    "raw_df.duplicated().sum()"
   ]
  },
  {
   "cell_type": "markdown",
   "metadata": {},
   "source": [
    "Output là 7 cho thấy có sự trùng lắp giữa các dòng."
   ]
  },
  {
   "cell_type": "markdown",
   "metadata": {},
   "source": [
    "Loại bỏ các dòng dữ liệu trùng nhau"
   ]
  },
  {
   "cell_type": "code",
   "execution_count": 96,
   "metadata": {},
   "outputs": [],
   "source": [
    "raw_df = raw_df.drop_duplicates()"
   ]
  },
  {
   "cell_type": "markdown",
   "metadata": {},
   "source": [
    "Kiểm tra lại sự trùng lắp"
   ]
  },
  {
   "cell_type": "code",
   "execution_count": 97,
   "metadata": {},
   "outputs": [
    {
     "data": {
      "text/plain": [
       "0"
      ]
     },
     "execution_count": 97,
     "metadata": {},
     "output_type": "execute_result"
    }
   ],
   "source": [
    "raw_df.duplicated().sum()"
   ]
  },
  {
   "cell_type": "markdown",
   "metadata": {},
   "source": [
    "## Liệu kiểu dữ liệu của các cột đã hợp lý hay chưa?"
   ]
  },
  {
   "cell_type": "markdown",
   "metadata": {},
   "source": [
    "Trước hết, quan sát kiểu dữ liệu khi đọc lên từ file csv"
   ]
  },
  {
   "cell_type": "code",
   "execution_count": 98,
   "metadata": {},
   "outputs": [
    {
     "data": {
      "text/plain": [
       "Customer ID                   int64\n",
       "Age                           int64\n",
       "Gender                       object\n",
       "Item Purchased               object\n",
       "Category                     object\n",
       "Purchase Amount (USD)       float64\n",
       "Location                     object\n",
       "Size                         object\n",
       "Color                        object\n",
       "Season                       object\n",
       "Review Rating               float64\n",
       "Subscription Status          object\n",
       "Payment Method               object\n",
       "Shipping Type                object\n",
       "Discount Applied             object\n",
       "Promo Code Used              object\n",
       "Previous Purchases          float64\n",
       "Preferred Payment Method     object\n",
       "Frequency of Purchases       object\n",
       "dtype: object"
      ]
     },
     "execution_count": 98,
     "metadata": {},
     "output_type": "execute_result"
    }
   ],
   "source": [
    "raw_df.dtypes"
   ]
  },
  {
   "cell_type": "markdown",
   "metadata": {},
   "source": [
    "- `Customer ID` có kiểu dữ liệu là `int64`, tuy nhiên mục đích của `Customer ID` là để phân biệt các khách hàng với nhau. Do đó, ta nên chuyển về kiểu Categorical thì hợp lý hơn là Numerical như hiện tại.\n",
    "\n",
    "- `Purchase Amount (USD)` có dữ liệu là `float64` trong khi dữ liệu thực tế trong file `.csv` cho thấy nó nên là `int64`\n",
    "\n",
    "- `Previous Purchases` nên có kiểu `int64` thì mới hợp lý\n",
    "\n",
    "- Xem xét các cột còn lại, kiểu dữ liệu của từng cột đã hợp lý, không cần thao tác gì thêm."
   ]
  },
  {
   "cell_type": "markdown",
   "metadata": {},
   "source": [
    "Kiểm tra số lượng missing value trong cột `Purchase Amount (USD)`"
   ]
  },
  {
   "cell_type": "code",
   "execution_count": 99,
   "metadata": {},
   "outputs": [
    {
     "data": {
      "text/plain": [
       "13"
      ]
     },
     "execution_count": 99,
     "metadata": {},
     "output_type": "execute_result"
    }
   ],
   "source": [
    "raw_df[\"Purchase Amount (USD)\"].isna().sum()"
   ]
  },
  {
   "cell_type": "markdown",
   "metadata": {},
   "source": [
    "Missing values là `13`. Đây là lí do khiến cho cột này có kiểu dữ liệu là `float64` thay vì `int64`. Các dòng không có dữ liệu khi đọc lên sẽ mang giá trị `nan` (một giá trị kiểu float) cho nên cả cột sẽ có kiểu dữ liệu là `float64`"
   ]
  },
  {
   "cell_type": "markdown",
   "metadata": {},
   "source": [
    "Kiểm tra số lượng missing value trong cột `Previous Purchases`"
   ]
  },
  {
   "cell_type": "code",
   "execution_count": 100,
   "metadata": {},
   "outputs": [
    {
     "data": {
      "text/plain": [
       "8"
      ]
     },
     "execution_count": 100,
     "metadata": {},
     "output_type": "execute_result"
    }
   ],
   "source": [
    "raw_df[\"Previous Purchases\"].isna().sum()"
   ]
  },
  {
   "cell_type": "markdown",
   "metadata": {},
   "source": [
    "Missing values là `8`. Đây là lí do khiến cho cột này có kiểu dữ liệu là `float64` thay vì `int64`. Các dòng không có dữ liệu khi đọc lên sẽ mang giá trị `nan` (một giá trị kiểu float) cho nên cả cột sẽ có kiểu dữ liệu là `float64`"
   ]
  },
  {
   "cell_type": "markdown",
   "metadata": {},
   "source": [
    "Đổi kiểu dữ liệu của cột `Customer ID` sang `Categorical`"
   ]
  },
  {
   "cell_type": "code",
   "execution_count": 101,
   "metadata": {},
   "outputs": [
    {
     "data": {
      "text/plain": [
       "Customer ID                  object\n",
       "Age                           int64\n",
       "Gender                       object\n",
       "Item Purchased               object\n",
       "Category                     object\n",
       "Purchase Amount (USD)       float64\n",
       "Location                     object\n",
       "Size                         object\n",
       "Color                        object\n",
       "Season                       object\n",
       "Review Rating               float64\n",
       "Subscription Status          object\n",
       "Payment Method               object\n",
       "Shipping Type                object\n",
       "Discount Applied             object\n",
       "Promo Code Used              object\n",
       "Previous Purchases          float64\n",
       "Preferred Payment Method     object\n",
       "Frequency of Purchases       object\n",
       "dtype: object"
      ]
     },
     "execution_count": 101,
     "metadata": {},
     "output_type": "execute_result"
    }
   ],
   "source": [
    "raw_df[\"Customer ID\"] = raw_df[\"Customer ID\"].astype(\"object\")\n",
    "raw_df.dtypes"
   ]
  },
  {
   "cell_type": "markdown",
   "metadata": {},
   "source": [
    "----\n",
    "## Sự phân bố của các cột Numerical"
   ]
  },
  {
   "cell_type": "markdown",
   "metadata": {},
   "source": [
    "Các cột Numerical trong Dataset gồm có:\n",
    "\n",
    "- `Age`\n",
    "\n",
    "- `Purchase Amount (USD)`\n",
    "\n",
    "- `Review Rating`\n",
    "\n",
    "- `Previous Purchases`"
   ]
  },
  {
   "cell_type": "code",
   "execution_count": 102,
   "metadata": {},
   "outputs": [
    {
     "data": {
      "text/html": [
       "<div>\n",
       "<style scoped>\n",
       "    .dataframe tbody tr th:only-of-type {\n",
       "        vertical-align: middle;\n",
       "    }\n",
       "\n",
       "    .dataframe tbody tr th {\n",
       "        vertical-align: top;\n",
       "    }\n",
       "\n",
       "    .dataframe thead th {\n",
       "        text-align: right;\n",
       "    }\n",
       "</style>\n",
       "<table border=\"1\" class=\"dataframe\">\n",
       "  <thead>\n",
       "    <tr style=\"text-align: right;\">\n",
       "      <th></th>\n",
       "      <th>Age</th>\n",
       "      <th>Purchase Amount (USD)</th>\n",
       "      <th>Review Rating</th>\n",
       "      <th>Previous Purchases</th>\n",
       "    </tr>\n",
       "  </thead>\n",
       "  <tbody>\n",
       "    <tr>\n",
       "      <th>0</th>\n",
       "      <td>55</td>\n",
       "      <td>53.00</td>\n",
       "      <td>3.10</td>\n",
       "      <td>14.00</td>\n",
       "    </tr>\n",
       "    <tr>\n",
       "      <th>1</th>\n",
       "      <td>19</td>\n",
       "      <td>64.00</td>\n",
       "      <td>3.10</td>\n",
       "      <td>2.00</td>\n",
       "    </tr>\n",
       "    <tr>\n",
       "      <th>2</th>\n",
       "      <td>50</td>\n",
       "      <td>73.00</td>\n",
       "      <td>3.10</td>\n",
       "      <td>23.00</td>\n",
       "    </tr>\n",
       "    <tr>\n",
       "      <th>3</th>\n",
       "      <td>21</td>\n",
       "      <td>90.00</td>\n",
       "      <td>3.50</td>\n",
       "      <td>49.00</td>\n",
       "    </tr>\n",
       "    <tr>\n",
       "      <th>4</th>\n",
       "      <td>45</td>\n",
       "      <td>49.00</td>\n",
       "      <td>2.70</td>\n",
       "      <td>31.00</td>\n",
       "    </tr>\n",
       "  </tbody>\n",
       "</table>\n",
       "</div>"
      ],
      "text/plain": [
       "   Age  Purchase Amount (USD)  Review Rating  Previous Purchases\n",
       "0   55                  53.00           3.10               14.00\n",
       "1   19                  64.00           3.10                2.00\n",
       "2   50                  73.00           3.10               23.00\n",
       "3   21                  90.00           3.50               49.00\n",
       "4   45                  49.00           2.70               31.00"
      ]
     },
     "execution_count": 102,
     "metadata": {},
     "output_type": "execute_result"
    }
   ],
   "source": [
    "numeric_col = [\"Age\", \"Purchase Amount (USD)\", \"Review Rating\", \"Previous Purchases\"]\n",
    "raw_df[numeric_col].head()"
   ]
  },
  {
   "cell_type": "markdown",
   "metadata": {},
   "source": [
    "Kiểm tra missing values của các cột trong `num_df`"
   ]
  },
  {
   "cell_type": "code",
   "execution_count": 103,
   "metadata": {},
   "outputs": [
    {
     "data": {
      "text/plain": [
       "Age                       0\n",
       "Purchase Amount (USD)    13\n",
       "Review Rating             0\n",
       "Previous Purchases        8\n",
       "dtype: int64"
      ]
     },
     "execution_count": 103,
     "metadata": {},
     "output_type": "execute_result"
    }
   ],
   "source": [
    "raw_df[numeric_col].isnull().sum()"
   ]
  },
  {
   "cell_type": "markdown",
   "metadata": {},
   "source": [
    "**Nhận xét**\n",
    "\n",
    "Nhìn chung, các cột `numerical` có missing values là:\n",
    "- `Purchase Amount (USD)`\n",
    "\n",
    "- `Previous Purchases`"
   ]
  },
  {
   "cell_type": "markdown",
   "metadata": {},
   "source": [
    "### Xử lý missing values cho cột `Purchase Amount (USD)`"
   ]
  },
  {
   "cell_type": "markdown",
   "metadata": {},
   "source": [
    "Một trong những cách xử lý missing value cho cột này chính là thay những chỗ mất mát dữ liệu bằng `mean` dựa trên `Item Purchased`. Bởi vì\n",
    "\n",
    "- Mỗi loại quần áo khác nhau thì sẽ có nằm ở những mức giá tiền khác nhau\n",
    "\n",
    "- Thay bằng mean của cả cột thì sẽ kém chính xác hơn\n",
    "\n",
    "**Lưu ý** vì sử dụng `mean` để thay vào missing values cho nên không cần chuyển cột này sang kiểu dữ liêu `int64` nữa."
   ]
  },
  {
   "cell_type": "markdown",
   "metadata": {},
   "source": [
    "Ta tính mean của `Purchase Amount (USD)` dựa trên `Item Purchased`"
   ]
  },
  {
   "cell_type": "code",
   "execution_count": 104,
   "metadata": {},
   "outputs": [],
   "source": [
    "price_dict = raw_df.groupby(\"Item Purchased\")[\"Purchase Amount (USD)\"].mean().to_dict()"
   ]
  },
  {
   "cell_type": "markdown",
   "metadata": {},
   "source": [
    "Fill nan bằng giá trị tương ứng trong `price_dict`"
   ]
  },
  {
   "cell_type": "code",
   "execution_count": 105,
   "metadata": {},
   "outputs": [
    {
     "name": "stdout",
     "output_type": "stream",
     "text": [
      "Số lượng giá trị nan: 0\n"
     ]
    }
   ],
   "source": [
    "raw_df[\"Purchase Amount (USD)\"] = raw_df.apply(lambda row : price_dict[row[\"Item Purchased\"]] if pd.isna(row[\"Purchase Amount (USD)\"]) else row[\"Purchase Amount (USD)\"], axis=1)\n",
    "print(f'Số lượng giá trị nan: {raw_df[\"Purchase Amount (USD)\"].isna().sum()}')"
   ]
  },
  {
   "cell_type": "markdown",
   "metadata": {},
   "source": [
    "### Xử lý missing values cho cột `Previous Purchases`"
   ]
  },
  {
   "cell_type": "markdown",
   "metadata": {},
   "source": [
    "Với các missing values ở cột này, ta sẽ fill nan bằng giá trị `0`."
   ]
  },
  {
   "cell_type": "code",
   "execution_count": 106,
   "metadata": {},
   "outputs": [
    {
     "name": "stdout",
     "output_type": "stream",
     "text": [
      "Số lượng giá trị nan: 0\n"
     ]
    }
   ],
   "source": [
    "raw_df[\"Previous Purchases\"] = raw_df[\"Previous Purchases\"].fillna(0)\n",
    "print(f'Số lượng giá trị nan: {raw_df[\"Previous Purchases\"].isna().sum()}')"
   ]
  },
  {
   "cell_type": "markdown",
   "metadata": {},
   "source": [
    "Gọi phương thức `describe()` để hiển thị **summary statistics** của các cột `Numerical`"
   ]
  },
  {
   "cell_type": "code",
   "execution_count": 107,
   "metadata": {},
   "outputs": [
    {
     "data": {
      "text/html": [
       "<div>\n",
       "<style scoped>\n",
       "    .dataframe tbody tr th:only-of-type {\n",
       "        vertical-align: middle;\n",
       "    }\n",
       "\n",
       "    .dataframe tbody tr th {\n",
       "        vertical-align: top;\n",
       "    }\n",
       "\n",
       "    .dataframe thead th {\n",
       "        text-align: right;\n",
       "    }\n",
       "</style>\n",
       "<table border=\"1\" class=\"dataframe\">\n",
       "  <thead>\n",
       "    <tr style=\"text-align: right;\">\n",
       "      <th></th>\n",
       "      <th>Age</th>\n",
       "      <th>Purchase Amount (USD)</th>\n",
       "      <th>Review Rating</th>\n",
       "      <th>Previous Purchases</th>\n",
       "    </tr>\n",
       "  </thead>\n",
       "  <tbody>\n",
       "    <tr>\n",
       "      <th>count</th>\n",
       "      <td>3900.00</td>\n",
       "      <td>3900.00</td>\n",
       "      <td>3900.00</td>\n",
       "      <td>3900.00</td>\n",
       "    </tr>\n",
       "    <tr>\n",
       "      <th>mean</th>\n",
       "      <td>44.07</td>\n",
       "      <td>59.76</td>\n",
       "      <td>3.75</td>\n",
       "      <td>25.34</td>\n",
       "    </tr>\n",
       "    <tr>\n",
       "      <th>std</th>\n",
       "      <td>15.21</td>\n",
       "      <td>23.63</td>\n",
       "      <td>0.72</td>\n",
       "      <td>14.46</td>\n",
       "    </tr>\n",
       "    <tr>\n",
       "      <th>min</th>\n",
       "      <td>18.00</td>\n",
       "      <td>20.00</td>\n",
       "      <td>2.50</td>\n",
       "      <td>0.00</td>\n",
       "    </tr>\n",
       "    <tr>\n",
       "      <th>25%</th>\n",
       "      <td>31.00</td>\n",
       "      <td>39.00</td>\n",
       "      <td>3.10</td>\n",
       "      <td>13.00</td>\n",
       "    </tr>\n",
       "    <tr>\n",
       "      <th>50%</th>\n",
       "      <td>44.00</td>\n",
       "      <td>60.00</td>\n",
       "      <td>3.70</td>\n",
       "      <td>25.00</td>\n",
       "    </tr>\n",
       "    <tr>\n",
       "      <th>75%</th>\n",
       "      <td>57.00</td>\n",
       "      <td>80.00</td>\n",
       "      <td>4.40</td>\n",
       "      <td>38.00</td>\n",
       "    </tr>\n",
       "    <tr>\n",
       "      <th>max</th>\n",
       "      <td>70.00</td>\n",
       "      <td>100.00</td>\n",
       "      <td>5.00</td>\n",
       "      <td>50.00</td>\n",
       "    </tr>\n",
       "  </tbody>\n",
       "</table>\n",
       "</div>"
      ],
      "text/plain": [
       "          Age  Purchase Amount (USD)  Review Rating  Previous Purchases\n",
       "count 3900.00                3900.00        3900.00             3900.00\n",
       "mean    44.07                  59.76           3.75               25.34\n",
       "std     15.21                  23.63           0.72               14.46\n",
       "min     18.00                  20.00           2.50                0.00\n",
       "25%     31.00                  39.00           3.10               13.00\n",
       "50%     44.00                  60.00           3.70               25.00\n",
       "75%     57.00                  80.00           4.40               38.00\n",
       "max     70.00                 100.00           5.00               50.00"
      ]
     },
     "execution_count": 107,
     "metadata": {},
     "output_type": "execute_result"
    }
   ],
   "source": [
    "raw_df[numeric_col].describe()"
   ]
  },
  {
   "cell_type": "markdown",
   "metadata": {},
   "source": [
    "**Nhận xét**\n",
    "\n",
    "- Các giá trị min, max đã hợp lý và không có cột nào mang giá trị min, max bất thường"
   ]
  },
  {
   "cell_type": "code",
   "execution_count": 159,
   "metadata": {},
   "outputs": [
    {
     "data": {
      "text/plain": [
       "Text(0.5, 0.98, 'Distribution of numeric columns')"
      ]
     },
     "execution_count": 159,
     "metadata": {},
     "output_type": "execute_result"
    },
    {
     "data": {
      "image/png": "[encoded data removed]",
      "text/plain": [
       "<Figure size 3000x480 with 4 Axes>"
      ]
     },
     "metadata": {},
     "output_type": "display_data"
    }
   ],
   "source": [
    "fig, ax = plt.subplots(1, 4)\n",
    "fig.set_figwidth(30)\n",
    "\n",
    "n_bins = [4, 4, 5, 4]\n",
    "\n",
    "for i, col in enumerate(numeric_col):\n",
    "    #raw_df[col].hist(ax= ax[i], edgecolor = \"black\", grid=False)\n",
    "    hist = ax[i].hist(raw_df[col], edgecolor = \"black\", bins = n_bins[i])\n",
    "    ax[i].set_xticks(hist[1])\n",
    "    ax[i].set_xlabel(col)\n",
    "    ax[i].set_ylabel(\"Number of customer\")\n",
    "\n",
    "fig.suptitle(\"Distribution of numeric columns\", size=18)"
   ]
  },
  {
   "cell_type": "markdown",
   "metadata": {},
   "source": [
    "**Nhận xét**\n",
    "- Phân bố của các cột numeric là khá đồng đều, không có sự chênh lệch quá lớn giữa các bins."
   ]
  },
  {
   "cell_type": "markdown",
   "metadata": {},
   "source": [
    "----"
   ]
  },
  {
   "cell_type": "markdown",
   "metadata": {},
   "source": [
    "## Sự phân bố của các cột Categorical\n"
   ]
  },
  {
   "cell_type": "markdown",
   "metadata": {},
   "source": []
  }
 ],
 "metadata": {
  "kernelspec": {
   "display_name": "min_ds-env",
   "language": "python",
   "name": "python3"
  },
  "language_info": {
   "codemirror_mode": {
    "name": "ipython",
    "version": 3
   },
   "file_extension": ".py",
   "mimetype": "text/x-python",
   "name": "python",
   "nbconvert_exporter": "python",
   "pygments_lexer": "ipython3",
   "version": "3.10.8"
  }
 },
 "nbformat": 4,
 "nbformat_minor": 2
}
