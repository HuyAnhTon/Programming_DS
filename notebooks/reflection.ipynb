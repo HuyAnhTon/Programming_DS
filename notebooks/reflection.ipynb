{
 "cells": [
  {
   "cell_type": "markdown",
   "id": "bdf6e66e",
   "metadata": {},
   "source": [
    "# Reflection"
   ]
  },
  {
   "cell_type": "markdown",
   "id": "7b58c7c5",
   "metadata": {},
   "source": [
    "## I. Cá nhân"
   ]
  },
  {
   "cell_type": "markdown",
   "id": "b90b60c8",
   "metadata": {},
   "source": [
    "### Nguyễn Thái Bình - 21120207\n",
    "#### Những vấn đề mà em gặp phải\n",
    "- Tìm ra câu hỏi: do còn thiếu kiên thức, nên việc tìm ra câu hỏi mà không quá dễ để có thể trả lời làm tốn của em khá nhiều thời gian.\n",
    "#### Những điều em học được\n",
    "- Một thư viện mới để trực quan hóa dữ liệu là plotly.\n",
    "- Tầm quan trọng của phiên bản các thư viện:trong nhóm, do sử dụng các phiên bản thư viện khác nhau dẫn đến việc có lỗi khi chạy mã. Em đã học được rằng cần phải chú ý đến phiên bản các thư viện khi sử dụng."
   ]
  },
  {
   "cell_type": "markdown",
   "id": "b2194d35",
   "metadata": {},
   "source": [
    "### Tôn Anh Huy - 21120257\n",
    "#### Những vấn đề mà em gặp phải\n",
    "- Đặt ra câu hỏi: bởi vì câu hỏi cần phải có ý nghĩa để giải quyết được các vấn đề có trong thực tế. Do bản thân chưa tiếp cận với lĩnh vực Data Science đủ lâu nên việc đặt câu hỏi có ý nghĩa cũng mang lại khó khăn nhất định\n",
    "\n",
    "- Dữ liệu bị mất mát và phải tìm cách xử lý thích hợp\n",
    "\n",
    "#### Những điều em học được\n",
    "\n",
    "- Hiểu được một quy trình cơ bản trong lĩnh vực Data Science\n",
    "\n",
    "- Đặt câu hỏi và trả lời thông qua dữ liệu.\n",
    "\n",
    "- Sử dụng thư viện mới để trực quan hoá dữ liệu\n",
    "\n",
    "- Các thao tác trong quá trình tiền xử lý dữ liệu"
   ]
  },
  {
   "cell_type": "markdown",
   "id": "2991bf1f",
   "metadata": {},
   "source": [
    "## II. Nhóm\n",
    "### Nếu có nhiều thời gian hơn, nhóm em sẽ:\n",
    "- Tự thu thập dữ liệu hay vì xử dụng dữ liệu có sẵn.\n",
    "\n",
    "- Đặt ra thêm câu hỏi.\n",
    "\n",
    "- Tìm ra cách khác để xử lý việc thiếu dữ liệu ở các cột `Categorical`. Có thể là xây dựng một mô hình để điền những thông tin bị thiếu thay vì phải bỏ đi cả dòng.\n",
    "\n",
    "- Thu thập dữ liệu và xây dựng các mô hình dự đoán đơn giản để giải quyết những vấn đề trong thực tế"
   ]
  },
  {
   "cell_type": "markdown",
   "id": "f7ba7c87",
   "metadata": {},
   "source": []
  }
 ],
 "metadata": {
  "kernelspec": {
   "display_name": "Python 3 (ipykernel)",
   "language": "python",
   "name": "python3"
  },
  "language_info": {
   "codemirror_mode": {
    "name": "ipython",
    "version": 3
   },
   "file_extension": ".py",
   "mimetype": "text/x-python",
   "name": "python",
   "nbconvert_exporter": "python",
   "pygments_lexer": "ipython3",
   "version": "3.10.8"
  }
 },
 "nbformat": 4,
 "nbformat_minor": 5
}
